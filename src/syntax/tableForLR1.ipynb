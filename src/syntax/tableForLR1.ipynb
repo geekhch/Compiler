{
 "cells": [
  {
   "cell_type": "code",
   "execution_count": 7,
   "metadata": {},
   "outputs": [],
   "source": [
    "with open(\"./grammarLR1.txt\") as f:\n",
    "    grammar = f.read().strip()\n",
    "    grammar = [pd.strip().split() for pd in grammar.split('\\n')]\n",
    "    "
   ]
  },
  {
   "cell_type": "code",
   "execution_count": 8,
   "metadata": {},
   "outputs": [
    {
     "data": {
      "text/plain": [
       "[['program', 'declaration-list'],\n",
       " ['declaration-list', 'declaration', 'help1'],\n",
       " ['help1', 'declaration', 'help1'],\n",
       " ['help1', 'empty'],\n",
       " ['declaration', 'var-declaration'],\n",
       " ['declaration', 'fun-declaration'],\n",
       " ['var-declaration', 'type-specifier', 'ID;'],\n",
       " ['var-declaration', 'type-specifier', 'ID[NUM];'],\n",
       " ['type-specifier', 'int'],\n",
       " ['type-specifier', 'void'],\n",
       " ['fun-declaration', 'type-specifier', 'ID(params)'],\n",
       " ['fun-declaration', 'compound-stmt'],\n",
       " ['params', 'param-list'],\n",
       " ['params', 'void'],\n",
       " ['param-list', 'param', 'help2'],\n",
       " ['help2', ',', 'param', 'help2'],\n",
       " ['help2', 'empty'],\n",
       " ['param', 'type-specifier', 'ID'],\n",
       " ['param', 'type-specifier', 'ID[]'],\n",
       " ['compound-stmt', '{local-declarations', 'statement-list}'],\n",
       " ['local-declarations', 'local-declarations', 'var-declaration'],\n",
       " ['local-declarations', 'empty'],\n",
       " ['statement-list', 'statement-list', 'statement'],\n",
       " ['statement-list', 'empty'],\n",
       " ['statement', 'expression-stmt'],\n",
       " ['statement', 'compound-stmt'],\n",
       " ['statement', 'selection-stmt'],\n",
       " ['statement', 'iteration-stmt'],\n",
       " ['statement', 'return-stmt'],\n",
       " ['expression-stmt', 'expression;'],\n",
       " ['expression-stmt', ';'],\n",
       " ['selection-stmt', 'if(expression)', 'statement'],\n",
       " ['selection-stmt', 'if(expression)', 'statement', 'else', 'statement'],\n",
       " ['iteration-stmt', 'while(expression)', 'statement'],\n",
       " ['return-stmt', 'return;'],\n",
       " ['return-stmt', 'return', 'expression;'],\n",
       " ['expression', 'var=expression'],\n",
       " ['expression', 'simple-expression'],\n",
       " ['var', 'ID'],\n",
       " ['var', 'ID[expression]'],\n",
       " ['simple-expression', 'additive-expression', 'relop', 'additive-expression'],\n",
       " ['simple-expression', 'additive-expression'],\n",
       " ['relop', '<='],\n",
       " ['relop', '<'],\n",
       " ['relop', '>'],\n",
       " ['relop', '>='],\n",
       " ['relop', '=='],\n",
       " ['relop', '!='],\n",
       " ['additive-expression', 'term', 'help3'],\n",
       " ['help3', 'addop', 'term', 'help3'],\n",
       " ['help3', 'empty'],\n",
       " ['addop', '+'],\n",
       " ['addop', '-'],\n",
       " ['term', 'factor', 'help4'],\n",
       " ['help4', 'mulop', 'factor', 'help4'],\n",
       " ['help4', 'empty'],\n",
       " ['mulop', '*'],\n",
       " ['mulop', '/'],\n",
       " ['factor', '(expression)'],\n",
       " ['factor', 'var'],\n",
       " ['factor', 'call'],\n",
       " ['factor', 'NUM'],\n",
       " ['call', 'ID(args)'],\n",
       " ['args', 'arg-list'],\n",
       " ['args', 'empty'],\n",
       " ['arg-list', 'expression', 'help5'],\n",
       " ['help5', ',', 'expression', 'help5'],\n",
       " ['help5', 'empty']]"
      ]
     },
     "execution_count": 8,
     "metadata": {},
     "output_type": "execute_result"
    }
   ],
   "source": [
    "def closure(item):\n",
    "    # 此处pd为一个二维坐标，标注产生式下标和点位置pd:(23,0)\n",
    "    pd = grammar[item[0]]\n",
    "    if item[1] == len(pd)-1: #规约项\n",
    "        pass\n",
    "    elif item[1] > len(pd)-1: #error\n",
    "        raise Exception(\"fked\")\n",
    "    else:\n",
    "        \n"
   ]
  },
  {
   "cell_type": "code",
   "execution_count": null,
   "metadata": {},
   "outputs": [],
   "source": []
  }
 ],
 "metadata": {
  "kernelspec": {
   "display_name": "Python 3",
   "language": "python",
   "name": "python3"
  },
  "language_info": {
   "codemirror_mode": {
    "name": "ipython",
    "version": 3
   },
   "file_extension": ".py",
   "mimetype": "text/x-python",
   "name": "python",
   "nbconvert_exporter": "python",
   "pygments_lexer": "ipython3",
   "version": "3.7.1"
  }
 },
 "nbformat": 4,
 "nbformat_minor": 2
}
